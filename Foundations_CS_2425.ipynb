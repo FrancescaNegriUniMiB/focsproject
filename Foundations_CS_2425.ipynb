{
  "nbformat": 4,
  "nbformat_minor": 0,
  "metadata": {
    "colab": {
      "provenance": [],
      "toc_visible": true,
      "authorship_tag": "ABX9TyOlpGycwQPjvknjMAF0DqZX",
      "include_colab_link": true
    },
    "kernelspec": {
      "name": "python3",
      "display_name": "Python 3"
    },
    "language_info": {
      "name": "python"
    }
  },
  "cells": [
    {
      "cell_type": "markdown",
      "metadata": {
        "id": "view-in-github",
        "colab_type": "text"
      },
      "source": [
        "<a href=\"https://colab.research.google.com/github/FrancescaNegriUniMiB/focsproject/blob/main/Foundations_CS_2425.ipynb\" target=\"_parent\"><img src=\"https://colab.research.google.com/assets/colab-badge.svg\" alt=\"Open In Colab\"/></a>"
      ]
    },
    {
      "cell_type": "markdown",
      "source": [
        "# FOUNDATIONS OF COMPUTER SCIENCE - PROJECT FOR A.Y. 2024-2025"
      ],
      "metadata": {
        "id": "VdV-pwd4cce3"
      }
    },
    {
      "cell_type": "markdown",
      "source": [
        "### Project text\n",
        "\n",
        "1. Extract all trips with `trip_distance` larger than 50\n",
        "2. Extract all trips where `payment_type` is missing\n",
        "3. For each (`PULocationID`, `DOLocationID`) pair, determine the number of trips\n",
        "4. Save all rows with missing `VendorID`, `passenger_count`, `store_and_fwd_flag`, `payment_type` in a new DataFrame called `bad`, and remove those rows from the original DataFrame\n",
        "5. Add a `duration` column storing how long each trip has taken (use `tpep_pickup_datetime`, `tpep_dropoff_datetime`)\n",
        "6. For each pickup location, determine how many trips have started there\n",
        "7. Cluster the pickup time of the day into 30-minute intervals (e.g., from 02:00 to 02:30)\n",
        "8. For each interval, determine the average number of passengers and the average fare amount\n",
        "9. For each payment type and each interval, determine the average fare amount\n",
        "10. For each payment type, determine the interval when the average fare amount is maximum\n",
        "11. For each payment type, determine the interval when the overall ratio between the tip and the fare amounts is maximum\n",
        "12. Find the location with the highest average fare amount\n",
        "13. Build a new DataFrame (called `common`) where, for each pickup location, we keep all trips to the 5 most common destinations (i.e., each pickup location can have different common destinations)\n",
        "14. On the `common` DataFrame, for each payment type and each interval, determine the average fare amount\n",
        "15. Compute the difference of the average fare amount computed in the previous point with those computed at point 9\n",
        "16. Compute the ratio between the differences computed in the previous point and those computed in point 9  \n",
        "    **Note:** You have to compute a ratio for each pair (`payment type`, `interval`)\n",
        "17. Build chains of trips. Two trips are consecutive in a chain if:\n",
        "    1. They have the same `VendorID`\n",
        "    2. The pickup location of the second trip is also the dropoff location of the first trip\n",
        "    3. The pickup time of the second trip is after the dropoff time of the first trip\n",
        "    4. The pickup time of the second trip is at most 2 minutes later than the dropoff time of the first trip"
      ],
      "metadata": {
        "id": "uLuY7UiwceG_"
      }
    },
    {
      "cell_type": "markdown",
      "source": [
        "## Importing\n"
      ],
      "metadata": {
        "id": "UQqQkpEHcjxQ"
      }
    },
    {
      "cell_type": "code",
      "source": [
        "import pandas as pd\n",
        "import time as t\n",
        "import numpy as np\n",
        "from bisect import bisect_left, bisect_right\n",
        "from collections import defaultdict, deque\n",
        "\n",
        "if 'executed' not in globals():\n",
        "\n",
        "  executed = True\n",
        "\n",
        "  !pip install -q gdown\n",
        "  !gdown --fuzzy https://drive.google.com/file/d/1IUOdTOYgjco0ggTVsNluQOl-xPbMZ3Z-/view?usp=sharing\n",
        "\n",
        "  df = pd.read_csv('/content/focs_data.csv',dtype={'store_and_fwd_flag':object})\n",
        "  display(df.head())\n",
        "\n",
        "  df_backup = df\n",
        "else:\n",
        "  df = df_backup\n",
        "  print(\"Reset df: ok.\")"
      ],
      "metadata": {
        "colab": {
          "base_uri": "https://localhost:8080/"
        },
        "id": "r9fT-xIBcq1y",
        "outputId": "82d0f091-8535-402a-95b0-549b7a79bde6"
      },
      "execution_count": 7,
      "outputs": [
        {
          "output_type": "stream",
          "name": "stdout",
          "text": [
            "Reset df: ok.\n"
          ]
        }
      ]
    },
    {
      "cell_type": "markdown",
      "source": [
        "**PRE-PROCESSING**\n",
        "The following rows are being removed because they can't represent a valid trip.\n",
        "A valid trip is assumed to have these columns always positive:\n",
        "\n",
        "\n",
        "*   fare_amount: can be >0 or 0 (free trip or payment voided?), but not below 0\n",
        "*   tip_amount: logically can't be below 0 (but could be 0)\n",
        "*   trip_distance: can't be <=0 because some distance has to be covered\n",
        "*   total_amount: since it's a sum of multiple components, can't be <= 0"
      ],
      "metadata": {
        "id": "9yLpqeqicxGW"
      }
    },
    {
      "cell_type": "code",
      "source": [
        "cols_to_check = ['fare_amount', 'tip_amount', 'trip_distance', 'total_amount']\n",
        "\n",
        "len_before = len(df)\n",
        "\n",
        "for col in cols_to_check:\n",
        "    n_neg = (df[col] < 0).sum()\n",
        "    print(f\"{col}: {n_neg} negative values found\")\n",
        "\n",
        "df = df[(df['fare_amount'] >= 0) & (df['trip_distance'] > 0) & (df['tip_amount'] >= 0) & (df['total_amount'] > 0)]\n",
        "\n",
        "\n",
        "print(f\"\\nA total of {len_before - len(df)} rows removed.\")"
      ],
      "metadata": {
        "colab": {
          "base_uri": "https://localhost:8080/"
        },
        "id": "AZOCP-YmctoP",
        "outputId": "e4abe992-c621-4fee-f768-b4e80fdb4dc6"
      },
      "execution_count": 9,
      "outputs": [
        {
          "output_type": "stream",
          "name": "stdout",
          "text": [
            "fare_amount: 19505 negative values found\n",
            "tip_amount: 170 negative values found\n",
            "trip_distance: 2338 negative values found\n",
            "total_amount: 19505 negative values found\n",
            "\n",
            "A total of 87985 rows removed.\n"
          ]
        }
      ]
    },
    {
      "cell_type": "markdown",
      "source": [
        "## Task 1"
      ],
      "metadata": {
        "id": "uTLJX8OZc43Q"
      }
    },
    {
      "cell_type": "markdown",
      "source": [
        "Extract all trips with trip_distance larger than 50"
      ],
      "metadata": {
        "id": "RsFTWy7SdjFm"
      }
    },
    {
      "cell_type": "code",
      "source": [
        "trips_g_50 = df[df['trip_distance'] > 50].copy().reset_index(drop=True)\n",
        "print(f\"\\n{len(trips_g_50)} rows found.\\n\")\n",
        "print(\"Details for trip_distance greater than 50:\\n\")\n",
        "display(trips_g_50.trip_distance.describe())"
      ],
      "metadata": {
        "colab": {
          "base_uri": "https://localhost:8080/",
          "height": 425
        },
        "id": "RMkUw6JbdhFt",
        "outputId": "17b90043-95f5-48a5-fe3f-83435e4024c1"
      },
      "execution_count": 10,
      "outputs": [
        {
          "output_type": "stream",
          "name": "stdout",
          "text": [
            "\n",
            "376 rows found.\n",
            "\n",
            "Details for trip_distance greater than 50:\n",
            "\n"
          ]
        },
        {
          "output_type": "display_data",
          "data": {
            "text/plain": [
              "count       376.000000\n",
              "mean        624.724441\n",
              "std       10838.941376\n",
              "min          50.050000\n",
              "25%          53.192500\n",
              "50%          58.700000\n",
              "75%          67.660000\n",
              "max      210240.070000\n",
              "Name: trip_distance, dtype: float64"
            ],
            "text/html": [
              "<div>\n",
              "<style scoped>\n",
              "    .dataframe tbody tr th:only-of-type {\n",
              "        vertical-align: middle;\n",
              "    }\n",
              "\n",
              "    .dataframe tbody tr th {\n",
              "        vertical-align: top;\n",
              "    }\n",
              "\n",
              "    .dataframe thead th {\n",
              "        text-align: right;\n",
              "    }\n",
              "</style>\n",
              "<table border=\"1\" class=\"dataframe\">\n",
              "  <thead>\n",
              "    <tr style=\"text-align: right;\">\n",
              "      <th></th>\n",
              "      <th>trip_distance</th>\n",
              "    </tr>\n",
              "  </thead>\n",
              "  <tbody>\n",
              "    <tr>\n",
              "      <th>count</th>\n",
              "      <td>376.000000</td>\n",
              "    </tr>\n",
              "    <tr>\n",
              "      <th>mean</th>\n",
              "      <td>624.724441</td>\n",
              "    </tr>\n",
              "    <tr>\n",
              "      <th>std</th>\n",
              "      <td>10838.941376</td>\n",
              "    </tr>\n",
              "    <tr>\n",
              "      <th>min</th>\n",
              "      <td>50.050000</td>\n",
              "    </tr>\n",
              "    <tr>\n",
              "      <th>25%</th>\n",
              "      <td>53.192500</td>\n",
              "    </tr>\n",
              "    <tr>\n",
              "      <th>50%</th>\n",
              "      <td>58.700000</td>\n",
              "    </tr>\n",
              "    <tr>\n",
              "      <th>75%</th>\n",
              "      <td>67.660000</td>\n",
              "    </tr>\n",
              "    <tr>\n",
              "      <th>max</th>\n",
              "      <td>210240.070000</td>\n",
              "    </tr>\n",
              "  </tbody>\n",
              "</table>\n",
              "</div><br><label><b>dtype:</b> float64</label>"
            ]
          },
          "metadata": {}
        }
      ]
    },
    {
      "cell_type": "markdown",
      "source": [
        "## Task 2"
      ],
      "metadata": {
        "id": "RZwTpcS3c-HL"
      }
    },
    {
      "cell_type": "markdown",
      "source": [
        "Extract all trips where payment_type is missing"
      ],
      "metadata": {
        "id": "8pyqpTXZdlsN"
      }
    },
    {
      "cell_type": "code",
      "source": [
        "trips_nan_pt = df[df['payment_type'].isna()].copy().reset_index(drop=True)\n",
        "print(f\"\\n{len(trips_nan_pt)} rows found.\\n\")\n",
        "print(\"First 5 rows of the subdf:\\n\")\n",
        "display(trips_nan_pt.head().round(2))"
      ],
      "metadata": {
        "colab": {
          "base_uri": "https://localhost:8080/",
          "height": 316
        },
        "id": "wpPYz_AQdgrK",
        "outputId": "dd41b1dd-da2d-4cd4-c1f4-eaf8e6779e71"
      },
      "execution_count": 11,
      "outputs": [
        {
          "output_type": "stream",
          "name": "stdout",
          "text": [
            "\n",
            "62679 rows found.\n",
            "\n",
            "First 5 rows of the subdf:\n",
            "\n"
          ]
        },
        {
          "output_type": "display_data",
          "data": {
            "text/plain": [
              "   VendorID tpep_pickup_datetime tpep_dropoff_datetime  passenger_count  \\\n",
              "0       NaN  2020-01-01 08:51:00   2020-01-01 09:19:00              NaN   \n",
              "1       NaN  2020-01-01 08:38:43   2020-01-01 08:51:08              NaN   \n",
              "2       NaN  2020-01-01 08:27:00   2020-01-01 08:32:00              NaN   \n",
              "3       NaN  2020-01-01 08:46:00   2020-01-01 08:57:00              NaN   \n",
              "4       NaN  2020-01-01 08:21:00   2020-01-01 08:38:00              NaN   \n",
              "\n",
              "   trip_distance  RatecodeID store_and_fwd_flag  PULocationID  DOLocationID  \\\n",
              "0          13.69         NaN                NaN           136           232   \n",
              "1           3.42         NaN                NaN           121             9   \n",
              "2           2.20         NaN                NaN           197           216   \n",
              "3           0.84         NaN                NaN           262           236   \n",
              "4           7.24         NaN                NaN            45           142   \n",
              "\n",
              "   payment_type  fare_amount  extra  mta_tax  tip_amount  tolls_amount  \\\n",
              "0           NaN        51.05   2.75      0.5         0.0           0.0   \n",
              "1           NaN        27.06   2.75      0.0         0.0           0.0   \n",
              "2           NaN        24.36   2.75      0.5         0.0           0.0   \n",
              "3           NaN        26.08   2.75      0.5         0.0           0.0   \n",
              "4           NaN        25.28   2.75      0.5         0.0           0.0   \n",
              "\n",
              "   improvement_surcharge  total_amount  congestion_surcharge  \n",
              "0                    0.3         54.60                   0.0  \n",
              "1                    0.3         30.11                   0.0  \n",
              "2                    0.3         27.91                   0.0  \n",
              "3                    0.3         29.63                   0.0  \n",
              "4                    0.3         28.83                   0.0  "
            ],
            "text/html": [
              "\n",
              "  <div id=\"df-223d084f-5f02-4eca-bf07-3df820b0e02f\" class=\"colab-df-container\">\n",
              "    <div>\n",
              "<style scoped>\n",
              "    .dataframe tbody tr th:only-of-type {\n",
              "        vertical-align: middle;\n",
              "    }\n",
              "\n",
              "    .dataframe tbody tr th {\n",
              "        vertical-align: top;\n",
              "    }\n",
              "\n",
              "    .dataframe thead th {\n",
              "        text-align: right;\n",
              "    }\n",
              "</style>\n",
              "<table border=\"1\" class=\"dataframe\">\n",
              "  <thead>\n",
              "    <tr style=\"text-align: right;\">\n",
              "      <th></th>\n",
              "      <th>VendorID</th>\n",
              "      <th>tpep_pickup_datetime</th>\n",
              "      <th>tpep_dropoff_datetime</th>\n",
              "      <th>passenger_count</th>\n",
              "      <th>trip_distance</th>\n",
              "      <th>RatecodeID</th>\n",
              "      <th>store_and_fwd_flag</th>\n",
              "      <th>PULocationID</th>\n",
              "      <th>DOLocationID</th>\n",
              "      <th>payment_type</th>\n",
              "      <th>fare_amount</th>\n",
              "      <th>extra</th>\n",
              "      <th>mta_tax</th>\n",
              "      <th>tip_amount</th>\n",
              "      <th>tolls_amount</th>\n",
              "      <th>improvement_surcharge</th>\n",
              "      <th>total_amount</th>\n",
              "      <th>congestion_surcharge</th>\n",
              "    </tr>\n",
              "  </thead>\n",
              "  <tbody>\n",
              "    <tr>\n",
              "      <th>0</th>\n",
              "      <td>NaN</td>\n",
              "      <td>2020-01-01 08:51:00</td>\n",
              "      <td>2020-01-01 09:19:00</td>\n",
              "      <td>NaN</td>\n",
              "      <td>13.69</td>\n",
              "      <td>NaN</td>\n",
              "      <td>NaN</td>\n",
              "      <td>136</td>\n",
              "      <td>232</td>\n",
              "      <td>NaN</td>\n",
              "      <td>51.05</td>\n",
              "      <td>2.75</td>\n",
              "      <td>0.5</td>\n",
              "      <td>0.0</td>\n",
              "      <td>0.0</td>\n",
              "      <td>0.3</td>\n",
              "      <td>54.60</td>\n",
              "      <td>0.0</td>\n",
              "    </tr>\n",
              "    <tr>\n",
              "      <th>1</th>\n",
              "      <td>NaN</td>\n",
              "      <td>2020-01-01 08:38:43</td>\n",
              "      <td>2020-01-01 08:51:08</td>\n",
              "      <td>NaN</td>\n",
              "      <td>3.42</td>\n",
              "      <td>NaN</td>\n",
              "      <td>NaN</td>\n",
              "      <td>121</td>\n",
              "      <td>9</td>\n",
              "      <td>NaN</td>\n",
              "      <td>27.06</td>\n",
              "      <td>2.75</td>\n",
              "      <td>0.0</td>\n",
              "      <td>0.0</td>\n",
              "      <td>0.0</td>\n",
              "      <td>0.3</td>\n",
              "      <td>30.11</td>\n",
              "      <td>0.0</td>\n",
              "    </tr>\n",
              "    <tr>\n",
              "      <th>2</th>\n",
              "      <td>NaN</td>\n",
              "      <td>2020-01-01 08:27:00</td>\n",
              "      <td>2020-01-01 08:32:00</td>\n",
              "      <td>NaN</td>\n",
              "      <td>2.20</td>\n",
              "      <td>NaN</td>\n",
              "      <td>NaN</td>\n",
              "      <td>197</td>\n",
              "      <td>216</td>\n",
              "      <td>NaN</td>\n",
              "      <td>24.36</td>\n",
              "      <td>2.75</td>\n",
              "      <td>0.5</td>\n",
              "      <td>0.0</td>\n",
              "      <td>0.0</td>\n",
              "      <td>0.3</td>\n",
              "      <td>27.91</td>\n",
              "      <td>0.0</td>\n",
              "    </tr>\n",
              "    <tr>\n",
              "      <th>3</th>\n",
              "      <td>NaN</td>\n",
              "      <td>2020-01-01 08:46:00</td>\n",
              "      <td>2020-01-01 08:57:00</td>\n",
              "      <td>NaN</td>\n",
              "      <td>0.84</td>\n",
              "      <td>NaN</td>\n",
              "      <td>NaN</td>\n",
              "      <td>262</td>\n",
              "      <td>236</td>\n",
              "      <td>NaN</td>\n",
              "      <td>26.08</td>\n",
              "      <td>2.75</td>\n",
              "      <td>0.5</td>\n",
              "      <td>0.0</td>\n",
              "      <td>0.0</td>\n",
              "      <td>0.3</td>\n",
              "      <td>29.63</td>\n",
              "      <td>0.0</td>\n",
              "    </tr>\n",
              "    <tr>\n",
              "      <th>4</th>\n",
              "      <td>NaN</td>\n",
              "      <td>2020-01-01 08:21:00</td>\n",
              "      <td>2020-01-01 08:38:00</td>\n",
              "      <td>NaN</td>\n",
              "      <td>7.24</td>\n",
              "      <td>NaN</td>\n",
              "      <td>NaN</td>\n",
              "      <td>45</td>\n",
              "      <td>142</td>\n",
              "      <td>NaN</td>\n",
              "      <td>25.28</td>\n",
              "      <td>2.75</td>\n",
              "      <td>0.5</td>\n",
              "      <td>0.0</td>\n",
              "      <td>0.0</td>\n",
              "      <td>0.3</td>\n",
              "      <td>28.83</td>\n",
              "      <td>0.0</td>\n",
              "    </tr>\n",
              "  </tbody>\n",
              "</table>\n",
              "</div>\n",
              "    <div class=\"colab-df-buttons\">\n",
              "\n",
              "  <div class=\"colab-df-container\">\n",
              "    <button class=\"colab-df-convert\" onclick=\"convertToInteractive('df-223d084f-5f02-4eca-bf07-3df820b0e02f')\"\n",
              "            title=\"Convert this dataframe to an interactive table.\"\n",
              "            style=\"display:none;\">\n",
              "\n",
              "  <svg xmlns=\"http://www.w3.org/2000/svg\" height=\"24px\" viewBox=\"0 -960 960 960\">\n",
              "    <path d=\"M120-120v-720h720v720H120Zm60-500h600v-160H180v160Zm220 220h160v-160H400v160Zm0 220h160v-160H400v160ZM180-400h160v-160H180v160Zm440 0h160v-160H620v160ZM180-180h160v-160H180v160Zm440 0h160v-160H620v160Z\"/>\n",
              "  </svg>\n",
              "    </button>\n",
              "\n",
              "  <style>\n",
              "    .colab-df-container {\n",
              "      display:flex;\n",
              "      gap: 12px;\n",
              "    }\n",
              "\n",
              "    .colab-df-convert {\n",
              "      background-color: #E8F0FE;\n",
              "      border: none;\n",
              "      border-radius: 50%;\n",
              "      cursor: pointer;\n",
              "      display: none;\n",
              "      fill: #1967D2;\n",
              "      height: 32px;\n",
              "      padding: 0 0 0 0;\n",
              "      width: 32px;\n",
              "    }\n",
              "\n",
              "    .colab-df-convert:hover {\n",
              "      background-color: #E2EBFA;\n",
              "      box-shadow: 0px 1px 2px rgba(60, 64, 67, 0.3), 0px 1px 3px 1px rgba(60, 64, 67, 0.15);\n",
              "      fill: #174EA6;\n",
              "    }\n",
              "\n",
              "    .colab-df-buttons div {\n",
              "      margin-bottom: 4px;\n",
              "    }\n",
              "\n",
              "    [theme=dark] .colab-df-convert {\n",
              "      background-color: #3B4455;\n",
              "      fill: #D2E3FC;\n",
              "    }\n",
              "\n",
              "    [theme=dark] .colab-df-convert:hover {\n",
              "      background-color: #434B5C;\n",
              "      box-shadow: 0px 1px 3px 1px rgba(0, 0, 0, 0.15);\n",
              "      filter: drop-shadow(0px 1px 2px rgba(0, 0, 0, 0.3));\n",
              "      fill: #FFFFFF;\n",
              "    }\n",
              "  </style>\n",
              "\n",
              "    <script>\n",
              "      const buttonEl =\n",
              "        document.querySelector('#df-223d084f-5f02-4eca-bf07-3df820b0e02f button.colab-df-convert');\n",
              "      buttonEl.style.display =\n",
              "        google.colab.kernel.accessAllowed ? 'block' : 'none';\n",
              "\n",
              "      async function convertToInteractive(key) {\n",
              "        const element = document.querySelector('#df-223d084f-5f02-4eca-bf07-3df820b0e02f');\n",
              "        const dataTable =\n",
              "          await google.colab.kernel.invokeFunction('convertToInteractive',\n",
              "                                                    [key], {});\n",
              "        if (!dataTable) return;\n",
              "\n",
              "        const docLinkHtml = 'Like what you see? Visit the ' +\n",
              "          '<a target=\"_blank\" href=https://colab.research.google.com/notebooks/data_table.ipynb>data table notebook</a>'\n",
              "          + ' to learn more about interactive tables.';\n",
              "        element.innerHTML = '';\n",
              "        dataTable['output_type'] = 'display_data';\n",
              "        await google.colab.output.renderOutput(dataTable, element);\n",
              "        const docLink = document.createElement('div');\n",
              "        docLink.innerHTML = docLinkHtml;\n",
              "        element.appendChild(docLink);\n",
              "      }\n",
              "    </script>\n",
              "  </div>\n",
              "\n",
              "\n",
              "    <div id=\"df-fd2699be-6e87-49e7-a7fa-6f659fe16ed9\">\n",
              "      <button class=\"colab-df-quickchart\" onclick=\"quickchart('df-fd2699be-6e87-49e7-a7fa-6f659fe16ed9')\"\n",
              "                title=\"Suggest charts\"\n",
              "                style=\"display:none;\">\n",
              "\n",
              "<svg xmlns=\"http://www.w3.org/2000/svg\" height=\"24px\"viewBox=\"0 0 24 24\"\n",
              "     width=\"24px\">\n",
              "    <g>\n",
              "        <path d=\"M19 3H5c-1.1 0-2 .9-2 2v14c0 1.1.9 2 2 2h14c1.1 0 2-.9 2-2V5c0-1.1-.9-2-2-2zM9 17H7v-7h2v7zm4 0h-2V7h2v10zm4 0h-2v-4h2v4z\"/>\n",
              "    </g>\n",
              "</svg>\n",
              "      </button>\n",
              "\n",
              "<style>\n",
              "  .colab-df-quickchart {\n",
              "      --bg-color: #E8F0FE;\n",
              "      --fill-color: #1967D2;\n",
              "      --hover-bg-color: #E2EBFA;\n",
              "      --hover-fill-color: #174EA6;\n",
              "      --disabled-fill-color: #AAA;\n",
              "      --disabled-bg-color: #DDD;\n",
              "  }\n",
              "\n",
              "  [theme=dark] .colab-df-quickchart {\n",
              "      --bg-color: #3B4455;\n",
              "      --fill-color: #D2E3FC;\n",
              "      --hover-bg-color: #434B5C;\n",
              "      --hover-fill-color: #FFFFFF;\n",
              "      --disabled-bg-color: #3B4455;\n",
              "      --disabled-fill-color: #666;\n",
              "  }\n",
              "\n",
              "  .colab-df-quickchart {\n",
              "    background-color: var(--bg-color);\n",
              "    border: none;\n",
              "    border-radius: 50%;\n",
              "    cursor: pointer;\n",
              "    display: none;\n",
              "    fill: var(--fill-color);\n",
              "    height: 32px;\n",
              "    padding: 0;\n",
              "    width: 32px;\n",
              "  }\n",
              "\n",
              "  .colab-df-quickchart:hover {\n",
              "    background-color: var(--hover-bg-color);\n",
              "    box-shadow: 0 1px 2px rgba(60, 64, 67, 0.3), 0 1px 3px 1px rgba(60, 64, 67, 0.15);\n",
              "    fill: var(--button-hover-fill-color);\n",
              "  }\n",
              "\n",
              "  .colab-df-quickchart-complete:disabled,\n",
              "  .colab-df-quickchart-complete:disabled:hover {\n",
              "    background-color: var(--disabled-bg-color);\n",
              "    fill: var(--disabled-fill-color);\n",
              "    box-shadow: none;\n",
              "  }\n",
              "\n",
              "  .colab-df-spinner {\n",
              "    border: 2px solid var(--fill-color);\n",
              "    border-color: transparent;\n",
              "    border-bottom-color: var(--fill-color);\n",
              "    animation:\n",
              "      spin 1s steps(1) infinite;\n",
              "  }\n",
              "\n",
              "  @keyframes spin {\n",
              "    0% {\n",
              "      border-color: transparent;\n",
              "      border-bottom-color: var(--fill-color);\n",
              "      border-left-color: var(--fill-color);\n",
              "    }\n",
              "    20% {\n",
              "      border-color: transparent;\n",
              "      border-left-color: var(--fill-color);\n",
              "      border-top-color: var(--fill-color);\n",
              "    }\n",
              "    30% {\n",
              "      border-color: transparent;\n",
              "      border-left-color: var(--fill-color);\n",
              "      border-top-color: var(--fill-color);\n",
              "      border-right-color: var(--fill-color);\n",
              "    }\n",
              "    40% {\n",
              "      border-color: transparent;\n",
              "      border-right-color: var(--fill-color);\n",
              "      border-top-color: var(--fill-color);\n",
              "    }\n",
              "    60% {\n",
              "      border-color: transparent;\n",
              "      border-right-color: var(--fill-color);\n",
              "    }\n",
              "    80% {\n",
              "      border-color: transparent;\n",
              "      border-right-color: var(--fill-color);\n",
              "      border-bottom-color: var(--fill-color);\n",
              "    }\n",
              "    90% {\n",
              "      border-color: transparent;\n",
              "      border-bottom-color: var(--fill-color);\n",
              "    }\n",
              "  }\n",
              "</style>\n",
              "\n",
              "      <script>\n",
              "        async function quickchart(key) {\n",
              "          const quickchartButtonEl =\n",
              "            document.querySelector('#' + key + ' button');\n",
              "          quickchartButtonEl.disabled = true;  // To prevent multiple clicks.\n",
              "          quickchartButtonEl.classList.add('colab-df-spinner');\n",
              "          try {\n",
              "            const charts = await google.colab.kernel.invokeFunction(\n",
              "                'suggestCharts', [key], {});\n",
              "          } catch (error) {\n",
              "            console.error('Error during call to suggestCharts:', error);\n",
              "          }\n",
              "          quickchartButtonEl.classList.remove('colab-df-spinner');\n",
              "          quickchartButtonEl.classList.add('colab-df-quickchart-complete');\n",
              "        }\n",
              "        (() => {\n",
              "          let quickchartButtonEl =\n",
              "            document.querySelector('#df-fd2699be-6e87-49e7-a7fa-6f659fe16ed9 button');\n",
              "          quickchartButtonEl.style.display =\n",
              "            google.colab.kernel.accessAllowed ? 'block' : 'none';\n",
              "        })();\n",
              "      </script>\n",
              "    </div>\n",
              "\n",
              "    </div>\n",
              "  </div>\n"
            ],
            "application/vnd.google.colaboratory.intrinsic+json": {
              "type": "dataframe",
              "repr_error": "Out of range float values are not JSON compliant: nan"
            }
          },
          "metadata": {}
        }
      ]
    },
    {
      "cell_type": "code",
      "source": [
        "#print(f\"Removing {len(df[df['VendorID'].isna()])} rows\")\n",
        "#df = df[df['VendorID'].notna()]"
      ],
      "metadata": {
        "id": "ACFzH8jygKpJ"
      },
      "execution_count": null,
      "outputs": []
    },
    {
      "cell_type": "markdown",
      "source": [
        "## Task 3"
      ],
      "metadata": {
        "id": "u85dl5D2dA_x"
      }
    },
    {
      "cell_type": "markdown",
      "source": [
        "For each (PULocationID, DOLocationID) pair, determine the number of trips"
      ],
      "metadata": {
        "id": "dallOrEadmn4"
      }
    },
    {
      "cell_type": "code",
      "source": [
        "# prompt: For each (PULocationID, DOLocationID) pair, determine the number of trips\n",
        "\n",
        "trip_counts = df[['PULocationID','DOLocationID']].value_counts().reset_index(name='total_trips_per_route')\n",
        "print(f\"{len(trip_counts)} pairs found.\")\n",
        "print(\"\\nStatistical data about 'total_trips_per_route' distribution:\")\n",
        "display(trip_counts.total_trips_per_route.describe().astype(int))"
      ],
      "metadata": {
        "colab": {
          "base_uri": "https://localhost:8080/",
          "height": 389
        },
        "id": "0p7IyoKQdgXH",
        "outputId": "2c166ef8-4d38-4922-fc40-ab63b470cfce"
      },
      "execution_count": 12,
      "outputs": [
        {
          "output_type": "stream",
          "name": "stdout",
          "text": [
            "29663 pairs found.\n",
            "\n",
            "Statistical data about 'total_trips_per_route' distribution:\n"
          ]
        },
        {
          "output_type": "display_data",
          "data": {
            "text/plain": [
              "count    29663\n",
              "mean       212\n",
              "std       1078\n",
              "min          1\n",
              "25%          2\n",
              "50%          5\n",
              "75%         24\n",
              "max      45442\n",
              "Name: total_trips_per_route, dtype: int64"
            ],
            "text/html": [
              "<div>\n",
              "<style scoped>\n",
              "    .dataframe tbody tr th:only-of-type {\n",
              "        vertical-align: middle;\n",
              "    }\n",
              "\n",
              "    .dataframe tbody tr th {\n",
              "        vertical-align: top;\n",
              "    }\n",
              "\n",
              "    .dataframe thead th {\n",
              "        text-align: right;\n",
              "    }\n",
              "</style>\n",
              "<table border=\"1\" class=\"dataframe\">\n",
              "  <thead>\n",
              "    <tr style=\"text-align: right;\">\n",
              "      <th></th>\n",
              "      <th>total_trips_per_route</th>\n",
              "    </tr>\n",
              "  </thead>\n",
              "  <tbody>\n",
              "    <tr>\n",
              "      <th>count</th>\n",
              "      <td>29663</td>\n",
              "    </tr>\n",
              "    <tr>\n",
              "      <th>mean</th>\n",
              "      <td>212</td>\n",
              "    </tr>\n",
              "    <tr>\n",
              "      <th>std</th>\n",
              "      <td>1078</td>\n",
              "    </tr>\n",
              "    <tr>\n",
              "      <th>min</th>\n",
              "      <td>1</td>\n",
              "    </tr>\n",
              "    <tr>\n",
              "      <th>25%</th>\n",
              "      <td>2</td>\n",
              "    </tr>\n",
              "    <tr>\n",
              "      <th>50%</th>\n",
              "      <td>5</td>\n",
              "    </tr>\n",
              "    <tr>\n",
              "      <th>75%</th>\n",
              "      <td>24</td>\n",
              "    </tr>\n",
              "    <tr>\n",
              "      <th>max</th>\n",
              "      <td>45442</td>\n",
              "    </tr>\n",
              "  </tbody>\n",
              "</table>\n",
              "</div><br><label><b>dtype:</b> int64</label>"
            ]
          },
          "metadata": {}
        }
      ]
    },
    {
      "cell_type": "markdown",
      "source": [
        "## Task 4"
      ],
      "metadata": {
        "id": "8-4i2eLGdBSS"
      }
    },
    {
      "cell_type": "markdown",
      "source": [
        "Save all rows with missing VendorID, passenger_count, store_and_fwd_flag, payment_type in a new DataFrame called bad, and remove those rows from the original DataFrame"
      ],
      "metadata": {
        "id": "VklUI4Esdqfy"
      }
    },
    {
      "cell_type": "code",
      "source": [
        "nan_cols = ['VendorID', 'passenger_count', 'store_and_fwd_flag', 'payment_type']\n",
        "\n",
        "null_indices = df[nan_cols].isna().any(axis=1)\n",
        "\n",
        "print(f\"Number of rows where all specified columns are null: {null_indices.sum()}\")\n",
        "print(\"\\nCheck if rows null in one column are null in others:\")\n",
        "for col in nan_cols:\n",
        "    is_null_in_col = df[col].isna()\n",
        "    # Check if all rows that are null in 'col' are also null in all other columns\n",
        "    check = df.loc[is_null_in_col, [c for c in nan_cols if c != col]].isna().all(axis=1)\n",
        "    print(f\"  - Rows where '{col}' is null are also null in all other specified columns: {check.all()}\")\n",
        "\n",
        "#If the value can be missing in just 1 of the 4 columns:\n",
        "bad = df[null_indices].copy().reset_index(drop=True)\n",
        "df = df.dropna(subset=nan_cols).reset_index(drop=True)\n",
        "\n",
        "print(f\"\\n{len(bad)} rows removed from the original dataset.\")\n",
        "print(f\"\\nNow the dataset is {len(df)} rows long.\")"
      ],
      "metadata": {
        "colab": {
          "base_uri": "https://localhost:8080/"
        },
        "id": "bjBezgCUdgG8",
        "outputId": "21391e33-417c-43d3-b91f-8443785ad284"
      },
      "execution_count": 13,
      "outputs": [
        {
          "output_type": "stream",
          "name": "stdout",
          "text": [
            "Number of rows where all specified columns are null: 62679\n",
            "\n",
            "Check if rows null in one column are null in others:\n",
            "  - Rows where 'VendorID' is null are also null in all other specified columns: True\n",
            "  - Rows where 'passenger_count' is null are also null in all other specified columns: True\n",
            "  - Rows where 'store_and_fwd_flag' is null are also null in all other specified columns: True\n",
            "  - Rows where 'payment_type' is null are also null in all other specified columns: True\n",
            "\n",
            "62679 rows removed from the original dataset.\n",
            "\n",
            "Now the dataset is 6254344 rows long.\n"
          ]
        }
      ]
    },
    {
      "cell_type": "markdown",
      "source": [
        "## Task 5"
      ],
      "metadata": {
        "id": "5vXa2MIedBU4"
      }
    },
    {
      "cell_type": "markdown",
      "source": [
        "Add a duration column storing how long each trip has taken (use tpep_pickup_datetime, tpep_dropoff_datetime)"
      ],
      "metadata": {
        "id": "7JA26uYOdrhL"
      }
    },
    {
      "cell_type": "markdown",
      "source": [
        "## Task 6"
      ],
      "metadata": {
        "id": "g7XkeexBdBXO"
      }
    },
    {
      "cell_type": "markdown",
      "source": [
        "For each pickup location, determine how many trips have started there"
      ],
      "metadata": {
        "id": "4Vnf79JQdwB-"
      }
    },
    {
      "cell_type": "markdown",
      "source": [
        "## Task 7"
      ],
      "metadata": {
        "id": "4nSN57A3dBZk"
      }
    },
    {
      "cell_type": "markdown",
      "source": [
        "Cluster the pickup time of the day into 30-minute intervals (e.g., from 02:00 to 02:30)"
      ],
      "metadata": {
        "id": "8zHDYmmldyMD"
      }
    },
    {
      "cell_type": "markdown",
      "source": [
        "**Variante ----->\tTempo medio**\n",
        "\n",
        "astype(str).str.zfill(2) ----->\t1×\n",
        "\n",
        ".map('{:02}'.format) ----->\t~0.6×\n",
        "\n",
        ".dt.strftime('%H') su datetime ----->\t3–4×"
      ],
      "metadata": {
        "id": "lNrY-AZKd1Gu"
      }
    },
    {
      "cell_type": "markdown",
      "source": [
        "## Task 8"
      ],
      "metadata": {
        "id": "a6JPad0fdIUC"
      }
    },
    {
      "cell_type": "markdown",
      "source": [
        "For each interval, determine the average number of passengers and the average fare amount"
      ],
      "metadata": {
        "id": "ie58p0gHd3VK"
      }
    },
    {
      "cell_type": "markdown",
      "source": [
        "## Task 9"
      ],
      "metadata": {
        "id": "8GYxLVSGdItj"
      }
    },
    {
      "cell_type": "markdown",
      "source": [
        "For each payment type and each interval, determine the average fare amount"
      ],
      "metadata": {
        "id": "JOzg_lgqd4FE"
      }
    },
    {
      "cell_type": "markdown",
      "source": [
        "## Task 10"
      ],
      "metadata": {
        "id": "4I3ez-EkdJB5"
      }
    },
    {
      "cell_type": "markdown",
      "source": [
        "For each payment type, determine the interval when the average fare amount is maximum"
      ],
      "metadata": {
        "id": "GWgYRegod87y"
      }
    },
    {
      "cell_type": "markdown",
      "source": [
        "## Task 11"
      ],
      "metadata": {
        "id": "pYu5X35WdJRv"
      }
    },
    {
      "cell_type": "markdown",
      "source": [
        "For each payment type, determine the interval when the overall ratio between the tip and the fare amounts is maximum"
      ],
      "metadata": {
        "id": "4NrPvojdeE78"
      }
    },
    {
      "cell_type": "markdown",
      "source": [
        "## Task 12"
      ],
      "metadata": {
        "id": "h54BY8RsdJkB"
      }
    },
    {
      "cell_type": "markdown",
      "source": [
        "Find the location with the highest average fare amount"
      ],
      "metadata": {
        "id": "dFrn_RLwd_2e"
      }
    },
    {
      "cell_type": "markdown",
      "source": [
        "**PLEASE NOTE:**\n",
        "\n",
        "Since it is not specified whether the location refers to PU or DO, I'll assume the goal is to find where the most expensive trips ***begin***, and therefore I will consider the **PU** locations.\n",
        "\n",
        "The same calculation can, of course, also be done using the DO locations, perhaps to explore the cost of reaching certain areas."
      ],
      "metadata": {
        "id": "T_E6G7g5eA_X"
      }
    },
    {
      "cell_type": "markdown",
      "source": [
        "## Task 13"
      ],
      "metadata": {
        "id": "iLiWGfD9dJzG"
      }
    },
    {
      "cell_type": "markdown",
      "source": [
        "Build a new DataFrame (called common) where, for each pickup location, we keep all trips to the 5 most common destinations (i.e., each pickup location can have different common destinations)"
      ],
      "metadata": {
        "id": "66kGYFUoeGTi"
      }
    },
    {
      "cell_type": "markdown",
      "source": [
        "## Task 14"
      ],
      "metadata": {
        "id": "YUMpFt-AdKB8"
      }
    },
    {
      "cell_type": "markdown",
      "source": [
        "On the common DataFrame, for each payment type and each interval, determine the average fare amount"
      ],
      "metadata": {
        "id": "FLMzMIgTeJ2H"
      }
    },
    {
      "cell_type": "markdown",
      "source": [
        "## Task 15"
      ],
      "metadata": {
        "id": "rCZ4m6zNdKR1"
      }
    },
    {
      "cell_type": "markdown",
      "source": [
        "Compute the difference of the average fare amount computed in the previous point with those computed at point 9"
      ],
      "metadata": {
        "id": "rzdZrcY2eLwx"
      }
    },
    {
      "cell_type": "markdown",
      "source": [
        "## Task 16"
      ],
      "metadata": {
        "id": "3zVfYxwTdKjj"
      }
    },
    {
      "cell_type": "markdown",
      "source": [
        "Compute the ratio between the differences computed in the previous point and those computed in point 9 Note: You have to compute a ratio for each pair (payment type, interval)"
      ],
      "metadata": {
        "id": "TeoRzEfMeNiB"
      }
    },
    {
      "cell_type": "markdown",
      "source": [
        "## Task 17"
      ],
      "metadata": {
        "id": "B9WynSyodZO3"
      }
    },
    {
      "cell_type": "markdown",
      "source": [
        "Build chains of trips. Two trips are consecutive in a chain if:\n",
        "\n",
        "\n",
        "*   They have the same VendorID\n",
        "*   The pickup location of the second trip is also the dropoff location of the first trip\n",
        "*   The pickup time of the second trip is after the dropoff time of the first trip\n",
        "*   The pickup time of the second trip is at most 2 minutes later than the dropoff time of the first trip"
      ],
      "metadata": {
        "id": "9NwqGqsEeSBQ"
      }
    },
    {
      "cell_type": "markdown",
      "source": [
        "**REASONING**\n",
        "\n",
        "Task preparation:\n",
        "\n",
        "- reorder the dataset by VendorID, tpep_pickup_datetime, tpep_dropoff_datetime\n",
        "\n",
        "- create a column ‘starting_dropoff’ that contains tpep_dropoff_datetime + 1 second\n",
        "\n",
        "- create a column ‘ending_dropoff’ that contains tpep_dropoff_datetime + 2 minutes\n",
        "\n",
        "- initialize n = 0\n",
        "\n",
        "Then define a main function that:\n",
        "\n",
        "1. creates a column chain initialized to n\n",
        "\n",
        "2. increments n by 1 and takes the first row “i” with chain = 0 and does the following:\n",
        "\n",
        "  - chain of i = n\n",
        "\n",
        "  - crea te a subset of rows whose tpep_pickup_datetime is between the starting_dropoff of i and the ending_dropoff of i and have the same VendorID as i\n",
        "\n",
        "  - check whether in this subset, in the PULocationID column, the DOLocationID of i appears\n",
        "\n",
        "  - if it does not appear: go to step 3\n",
        "\n",
        "  - if it does appear: this row is called “j”, chain of j becomes n, and repeat steps 3A to 3E for j (which thus becomes the new i) but without changing n\n",
        "\n",
        "3. move to the next row with chain = 0 (the new “i”), increment n by 1 and repeat steps 3A to 3E for the new row"
      ],
      "metadata": {
        "id": "Fgx3DxNshY9m"
      }
    },
    {
      "cell_type": "code",
      "source": [],
      "metadata": {
        "id": "vQp9nSy2h3YR"
      },
      "execution_count": null,
      "outputs": []
    }
  ]
}