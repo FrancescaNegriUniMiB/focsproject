{
  "nbformat": 4,
  "nbformat_minor": 0,
  "metadata": {
    "colab": {
      "provenance": [],
      "toc_visible": true,
      "authorship_tag": "ABX9TyM0XiYLt7oHICVzrKR3Gobc",
      "include_colab_link": true
    },
    "kernelspec": {
      "name": "python3",
      "display_name": "Python 3"
    },
    "language_info": {
      "name": "python"
    }
  },
  "cells": [
    {
      "cell_type": "markdown",
      "metadata": {
        "id": "view-in-github",
        "colab_type": "text"
      },
      "source": [
        "<a href=\"https://colab.research.google.com/github/FrancescaNegriUniMiB/focsproject/blob/main/Foundations_CS_2425.ipynb\" target=\"_parent\"><img src=\"https://colab.research.google.com/assets/colab-badge.svg\" alt=\"Open In Colab\"/></a>"
      ]
    },
    {
      "cell_type": "markdown",
      "source": [
        "# FOUNDATIONS OF COMPUTER SCIENCE - PROJECT FOR A.Y. 2024-2025"
      ],
      "metadata": {
        "id": "VdV-pwd4cce3"
      }
    },
    {
      "cell_type": "markdown",
      "source": [
        "### Project text\n",
        "\n",
        "1. Extract all trips with `trip_distance` larger than 50\n",
        "2. Extract all trips where `payment_type` is missing\n",
        "3. For each (`PULocationID`, `DOLocationID`) pair, determine the number of trips\n",
        "4. Save all rows with missing `VendorID`, `passenger_count`, `store_and_fwd_flag`, `payment_type` in a new DataFrame called `bad`, and remove those rows from the original DataFrame\n",
        "5. Add a `duration` column storing how long each trip has taken (use `tpep_pickup_datetime`, `tpep_dropoff_datetime`)\n",
        "6. For each pickup location, determine how many trips have started there\n",
        "7. Cluster the pickup time of the day into 30-minute intervals (e.g., from 02:00 to 02:30)\n",
        "8. For each interval, determine the average number of passengers and the average fare amount\n",
        "9. For each payment type and each interval, determine the average fare amount\n",
        "10. For each payment type, determine the interval when the average fare amount is maximum\n",
        "11. For each payment type, determine the interval when the overall ratio between the tip and the fare amounts is maximum\n",
        "12. Find the location with the highest average fare amount\n",
        "13. Build a new DataFrame (called `common`) where, for each pickup location, we keep all trips to the 5 most common destinations (i.e., each pickup location can have different common destinations)\n",
        "14. On the `common` DataFrame, for each payment type and each interval, determine the average fare amount\n",
        "15. Compute the difference of the average fare amount computed in the previous point with those computed at point 9\n",
        "16. Compute the ratio between the differences computed in the previous point and those computed in point 9  \n",
        "    **Note:** You have to compute a ratio for each pair (`payment type`, `interval`)\n",
        "17. Build chains of trips. Two trips are consecutive in a chain if:\n",
        "    1. They have the same `VendorID`\n",
        "    2. The pickup location of the second trip is also the dropoff location of the first trip\n",
        "    3. The pickup time of the second trip is after the dropoff time of the first trip\n",
        "    4. The pickup time of the second trip is at most 2 minutes later than the dropoff time of the first trip"
      ],
      "metadata": {
        "id": "uLuY7UiwceG_"
      }
    },
    {
      "cell_type": "markdown",
      "source": [
        "## Importing\n"
      ],
      "metadata": {
        "id": "UQqQkpEHcjxQ"
      }
    },
    {
      "cell_type": "code",
      "source": [
        "import pandas as pd\n",
        "import time as t\n",
        "import numpy as np\n",
        "from bisect import bisect_left, bisect_right\n",
        "from collections import defaultdict, deque\n",
        "\n",
        "if 'executed' not in globals():\n",
        "\n",
        "  executed = True\n",
        "\n",
        "  !pip install -q gdown\n",
        "  !gdown --fuzzy https://drive.google.com/file/d/1IUOdTOYgjco0ggTVsNluQOl-xPbMZ3Z-/view?usp=sharing\n",
        "\n",
        "  df = pd.read_csv('/content/focs_data.csv',dtype={'store_and_fwd_flag':object})\n",
        "  display(df.head())\n",
        "\n",
        "  df_backup = df\n",
        "else:\n",
        "  df = df_backup\n",
        "  print(\"Reset df: ok.\")"
      ],
      "metadata": {
        "colab": {
          "base_uri": "https://localhost:8080/",
          "height": 316
        },
        "id": "r9fT-xIBcq1y",
        "outputId": "ea165a1a-3486-40f0-db88-dee38a666917"
      },
      "execution_count": 1,
      "outputs": [
        {
          "output_type": "stream",
          "name": "stdout",
          "text": [
            "Downloading...\n",
            "From (original): https://drive.google.com/uc?id=1IUOdTOYgjco0ggTVsNluQOl-xPbMZ3Z-\n",
            "From (redirected): https://drive.google.com/uc?id=1IUOdTOYgjco0ggTVsNluQOl-xPbMZ3Z-&confirm=t&uuid=b0de23f6-b5a6-4426-a06c-974a875ae13f\n",
            "To: /content/focs_data.csv\n",
            "100% 594M/594M [00:07<00:00, 77.6MB/s]\n"
          ]
        },
        {
          "output_type": "display_data",
          "data": {
            "text/plain": [
              "   VendorID tpep_pickup_datetime tpep_dropoff_datetime  passenger_count  \\\n",
              "0       1.0  2020-01-01 00:28:15   2020-01-01 00:33:03              1.0   \n",
              "1       1.0  2020-01-01 00:35:39   2020-01-01 00:43:04              1.0   \n",
              "2       1.0  2020-01-01 00:47:41   2020-01-01 00:53:52              1.0   \n",
              "3       1.0  2020-01-01 00:55:23   2020-01-01 01:00:14              1.0   \n",
              "4       2.0  2020-01-01 00:01:58   2020-01-01 00:04:16              1.0   \n",
              "\n",
              "   trip_distance  RatecodeID store_and_fwd_flag  PULocationID  DOLocationID  \\\n",
              "0            1.2         1.0                  N           238           239   \n",
              "1            1.2         1.0                  N           239           238   \n",
              "2            0.6         1.0                  N           238           238   \n",
              "3            0.8         1.0                  N           238           151   \n",
              "4            0.0         1.0                  N           193           193   \n",
              "\n",
              "   payment_type  fare_amount  extra  mta_tax  tip_amount  tolls_amount  \\\n",
              "0           1.0          6.0    3.0      0.5        1.47           0.0   \n",
              "1           1.0          7.0    3.0      0.5        1.50           0.0   \n",
              "2           1.0          6.0    3.0      0.5        1.00           0.0   \n",
              "3           1.0          5.5    0.5      0.5        1.36           0.0   \n",
              "4           2.0          3.5    0.5      0.5        0.00           0.0   \n",
              "\n",
              "   improvement_surcharge  total_amount  congestion_surcharge  \n",
              "0                    0.3         11.27                   2.5  \n",
              "1                    0.3         12.30                   2.5  \n",
              "2                    0.3         10.80                   2.5  \n",
              "3                    0.3          8.16                   0.0  \n",
              "4                    0.3          4.80                   0.0  "
            ],
            "text/html": [
              "\n",
              "  <div id=\"df-046adf6d-0fb8-449c-b0d7-24564cd905da\" class=\"colab-df-container\">\n",
              "    <div>\n",
              "<style scoped>\n",
              "    .dataframe tbody tr th:only-of-type {\n",
              "        vertical-align: middle;\n",
              "    }\n",
              "\n",
              "    .dataframe tbody tr th {\n",
              "        vertical-align: top;\n",
              "    }\n",
              "\n",
              "    .dataframe thead th {\n",
              "        text-align: right;\n",
              "    }\n",
              "</style>\n",
              "<table border=\"1\" class=\"dataframe\">\n",
              "  <thead>\n",
              "    <tr style=\"text-align: right;\">\n",
              "      <th></th>\n",
              "      <th>VendorID</th>\n",
              "      <th>tpep_pickup_datetime</th>\n",
              "      <th>tpep_dropoff_datetime</th>\n",
              "      <th>passenger_count</th>\n",
              "      <th>trip_distance</th>\n",
              "      <th>RatecodeID</th>\n",
              "      <th>store_and_fwd_flag</th>\n",
              "      <th>PULocationID</th>\n",
              "      <th>DOLocationID</th>\n",
              "      <th>payment_type</th>\n",
              "      <th>fare_amount</th>\n",
              "      <th>extra</th>\n",
              "      <th>mta_tax</th>\n",
              "      <th>tip_amount</th>\n",
              "      <th>tolls_amount</th>\n",
              "      <th>improvement_surcharge</th>\n",
              "      <th>total_amount</th>\n",
              "      <th>congestion_surcharge</th>\n",
              "    </tr>\n",
              "  </thead>\n",
              "  <tbody>\n",
              "    <tr>\n",
              "      <th>0</th>\n",
              "      <td>1.0</td>\n",
              "      <td>2020-01-01 00:28:15</td>\n",
              "      <td>2020-01-01 00:33:03</td>\n",
              "      <td>1.0</td>\n",
              "      <td>1.2</td>\n",
              "      <td>1.0</td>\n",
              "      <td>N</td>\n",
              "      <td>238</td>\n",
              "      <td>239</td>\n",
              "      <td>1.0</td>\n",
              "      <td>6.0</td>\n",
              "      <td>3.0</td>\n",
              "      <td>0.5</td>\n",
              "      <td>1.47</td>\n",
              "      <td>0.0</td>\n",
              "      <td>0.3</td>\n",
              "      <td>11.27</td>\n",
              "      <td>2.5</td>\n",
              "    </tr>\n",
              "    <tr>\n",
              "      <th>1</th>\n",
              "      <td>1.0</td>\n",
              "      <td>2020-01-01 00:35:39</td>\n",
              "      <td>2020-01-01 00:43:04</td>\n",
              "      <td>1.0</td>\n",
              "      <td>1.2</td>\n",
              "      <td>1.0</td>\n",
              "      <td>N</td>\n",
              "      <td>239</td>\n",
              "      <td>238</td>\n",
              "      <td>1.0</td>\n",
              "      <td>7.0</td>\n",
              "      <td>3.0</td>\n",
              "      <td>0.5</td>\n",
              "      <td>1.50</td>\n",
              "      <td>0.0</td>\n",
              "      <td>0.3</td>\n",
              "      <td>12.30</td>\n",
              "      <td>2.5</td>\n",
              "    </tr>\n",
              "    <tr>\n",
              "      <th>2</th>\n",
              "      <td>1.0</td>\n",
              "      <td>2020-01-01 00:47:41</td>\n",
              "      <td>2020-01-01 00:53:52</td>\n",
              "      <td>1.0</td>\n",
              "      <td>0.6</td>\n",
              "      <td>1.0</td>\n",
              "      <td>N</td>\n",
              "      <td>238</td>\n",
              "      <td>238</td>\n",
              "      <td>1.0</td>\n",
              "      <td>6.0</td>\n",
              "      <td>3.0</td>\n",
              "      <td>0.5</td>\n",
              "      <td>1.00</td>\n",
              "      <td>0.0</td>\n",
              "      <td>0.3</td>\n",
              "      <td>10.80</td>\n",
              "      <td>2.5</td>\n",
              "    </tr>\n",
              "    <tr>\n",
              "      <th>3</th>\n",
              "      <td>1.0</td>\n",
              "      <td>2020-01-01 00:55:23</td>\n",
              "      <td>2020-01-01 01:00:14</td>\n",
              "      <td>1.0</td>\n",
              "      <td>0.8</td>\n",
              "      <td>1.0</td>\n",
              "      <td>N</td>\n",
              "      <td>238</td>\n",
              "      <td>151</td>\n",
              "      <td>1.0</td>\n",
              "      <td>5.5</td>\n",
              "      <td>0.5</td>\n",
              "      <td>0.5</td>\n",
              "      <td>1.36</td>\n",
              "      <td>0.0</td>\n",
              "      <td>0.3</td>\n",
              "      <td>8.16</td>\n",
              "      <td>0.0</td>\n",
              "    </tr>\n",
              "    <tr>\n",
              "      <th>4</th>\n",
              "      <td>2.0</td>\n",
              "      <td>2020-01-01 00:01:58</td>\n",
              "      <td>2020-01-01 00:04:16</td>\n",
              "      <td>1.0</td>\n",
              "      <td>0.0</td>\n",
              "      <td>1.0</td>\n",
              "      <td>N</td>\n",
              "      <td>193</td>\n",
              "      <td>193</td>\n",
              "      <td>2.0</td>\n",
              "      <td>3.5</td>\n",
              "      <td>0.5</td>\n",
              "      <td>0.5</td>\n",
              "      <td>0.00</td>\n",
              "      <td>0.0</td>\n",
              "      <td>0.3</td>\n",
              "      <td>4.80</td>\n",
              "      <td>0.0</td>\n",
              "    </tr>\n",
              "  </tbody>\n",
              "</table>\n",
              "</div>\n",
              "    <div class=\"colab-df-buttons\">\n",
              "\n",
              "  <div class=\"colab-df-container\">\n",
              "    <button class=\"colab-df-convert\" onclick=\"convertToInteractive('df-046adf6d-0fb8-449c-b0d7-24564cd905da')\"\n",
              "            title=\"Convert this dataframe to an interactive table.\"\n",
              "            style=\"display:none;\">\n",
              "\n",
              "  <svg xmlns=\"http://www.w3.org/2000/svg\" height=\"24px\" viewBox=\"0 -960 960 960\">\n",
              "    <path d=\"M120-120v-720h720v720H120Zm60-500h600v-160H180v160Zm220 220h160v-160H400v160Zm0 220h160v-160H400v160ZM180-400h160v-160H180v160Zm440 0h160v-160H620v160ZM180-180h160v-160H180v160Zm440 0h160v-160H620v160Z\"/>\n",
              "  </svg>\n",
              "    </button>\n",
              "\n",
              "  <style>\n",
              "    .colab-df-container {\n",
              "      display:flex;\n",
              "      gap: 12px;\n",
              "    }\n",
              "\n",
              "    .colab-df-convert {\n",
              "      background-color: #E8F0FE;\n",
              "      border: none;\n",
              "      border-radius: 50%;\n",
              "      cursor: pointer;\n",
              "      display: none;\n",
              "      fill: #1967D2;\n",
              "      height: 32px;\n",
              "      padding: 0 0 0 0;\n",
              "      width: 32px;\n",
              "    }\n",
              "\n",
              "    .colab-df-convert:hover {\n",
              "      background-color: #E2EBFA;\n",
              "      box-shadow: 0px 1px 2px rgba(60, 64, 67, 0.3), 0px 1px 3px 1px rgba(60, 64, 67, 0.15);\n",
              "      fill: #174EA6;\n",
              "    }\n",
              "\n",
              "    .colab-df-buttons div {\n",
              "      margin-bottom: 4px;\n",
              "    }\n",
              "\n",
              "    [theme=dark] .colab-df-convert {\n",
              "      background-color: #3B4455;\n",
              "      fill: #D2E3FC;\n",
              "    }\n",
              "\n",
              "    [theme=dark] .colab-df-convert:hover {\n",
              "      background-color: #434B5C;\n",
              "      box-shadow: 0px 1px 3px 1px rgba(0, 0, 0, 0.15);\n",
              "      filter: drop-shadow(0px 1px 2px rgba(0, 0, 0, 0.3));\n",
              "      fill: #FFFFFF;\n",
              "    }\n",
              "  </style>\n",
              "\n",
              "    <script>\n",
              "      const buttonEl =\n",
              "        document.querySelector('#df-046adf6d-0fb8-449c-b0d7-24564cd905da button.colab-df-convert');\n",
              "      buttonEl.style.display =\n",
              "        google.colab.kernel.accessAllowed ? 'block' : 'none';\n",
              "\n",
              "      async function convertToInteractive(key) {\n",
              "        const element = document.querySelector('#df-046adf6d-0fb8-449c-b0d7-24564cd905da');\n",
              "        const dataTable =\n",
              "          await google.colab.kernel.invokeFunction('convertToInteractive',\n",
              "                                                    [key], {});\n",
              "        if (!dataTable) return;\n",
              "\n",
              "        const docLinkHtml = 'Like what you see? Visit the ' +\n",
              "          '<a target=\"_blank\" href=https://colab.research.google.com/notebooks/data_table.ipynb>data table notebook</a>'\n",
              "          + ' to learn more about interactive tables.';\n",
              "        element.innerHTML = '';\n",
              "        dataTable['output_type'] = 'display_data';\n",
              "        await google.colab.output.renderOutput(dataTable, element);\n",
              "        const docLink = document.createElement('div');\n",
              "        docLink.innerHTML = docLinkHtml;\n",
              "        element.appendChild(docLink);\n",
              "      }\n",
              "    </script>\n",
              "  </div>\n",
              "\n",
              "\n",
              "    <div id=\"df-d6adbe24-82e1-42fc-b621-5aecdf58c50d\">\n",
              "      <button class=\"colab-df-quickchart\" onclick=\"quickchart('df-d6adbe24-82e1-42fc-b621-5aecdf58c50d')\"\n",
              "                title=\"Suggest charts\"\n",
              "                style=\"display:none;\">\n",
              "\n",
              "<svg xmlns=\"http://www.w3.org/2000/svg\" height=\"24px\"viewBox=\"0 0 24 24\"\n",
              "     width=\"24px\">\n",
              "    <g>\n",
              "        <path d=\"M19 3H5c-1.1 0-2 .9-2 2v14c0 1.1.9 2 2 2h14c1.1 0 2-.9 2-2V5c0-1.1-.9-2-2-2zM9 17H7v-7h2v7zm4 0h-2V7h2v10zm4 0h-2v-4h2v4z\"/>\n",
              "    </g>\n",
              "</svg>\n",
              "      </button>\n",
              "\n",
              "<style>\n",
              "  .colab-df-quickchart {\n",
              "      --bg-color: #E8F0FE;\n",
              "      --fill-color: #1967D2;\n",
              "      --hover-bg-color: #E2EBFA;\n",
              "      --hover-fill-color: #174EA6;\n",
              "      --disabled-fill-color: #AAA;\n",
              "      --disabled-bg-color: #DDD;\n",
              "  }\n",
              "\n",
              "  [theme=dark] .colab-df-quickchart {\n",
              "      --bg-color: #3B4455;\n",
              "      --fill-color: #D2E3FC;\n",
              "      --hover-bg-color: #434B5C;\n",
              "      --hover-fill-color: #FFFFFF;\n",
              "      --disabled-bg-color: #3B4455;\n",
              "      --disabled-fill-color: #666;\n",
              "  }\n",
              "\n",
              "  .colab-df-quickchart {\n",
              "    background-color: var(--bg-color);\n",
              "    border: none;\n",
              "    border-radius: 50%;\n",
              "    cursor: pointer;\n",
              "    display: none;\n",
              "    fill: var(--fill-color);\n",
              "    height: 32px;\n",
              "    padding: 0;\n",
              "    width: 32px;\n",
              "  }\n",
              "\n",
              "  .colab-df-quickchart:hover {\n",
              "    background-color: var(--hover-bg-color);\n",
              "    box-shadow: 0 1px 2px rgba(60, 64, 67, 0.3), 0 1px 3px 1px rgba(60, 64, 67, 0.15);\n",
              "    fill: var(--button-hover-fill-color);\n",
              "  }\n",
              "\n",
              "  .colab-df-quickchart-complete:disabled,\n",
              "  .colab-df-quickchart-complete:disabled:hover {\n",
              "    background-color: var(--disabled-bg-color);\n",
              "    fill: var(--disabled-fill-color);\n",
              "    box-shadow: none;\n",
              "  }\n",
              "\n",
              "  .colab-df-spinner {\n",
              "    border: 2px solid var(--fill-color);\n",
              "    border-color: transparent;\n",
              "    border-bottom-color: var(--fill-color);\n",
              "    animation:\n",
              "      spin 1s steps(1) infinite;\n",
              "  }\n",
              "\n",
              "  @keyframes spin {\n",
              "    0% {\n",
              "      border-color: transparent;\n",
              "      border-bottom-color: var(--fill-color);\n",
              "      border-left-color: var(--fill-color);\n",
              "    }\n",
              "    20% {\n",
              "      border-color: transparent;\n",
              "      border-left-color: var(--fill-color);\n",
              "      border-top-color: var(--fill-color);\n",
              "    }\n",
              "    30% {\n",
              "      border-color: transparent;\n",
              "      border-left-color: var(--fill-color);\n",
              "      border-top-color: var(--fill-color);\n",
              "      border-right-color: var(--fill-color);\n",
              "    }\n",
              "    40% {\n",
              "      border-color: transparent;\n",
              "      border-right-color: var(--fill-color);\n",
              "      border-top-color: var(--fill-color);\n",
              "    }\n",
              "    60% {\n",
              "      border-color: transparent;\n",
              "      border-right-color: var(--fill-color);\n",
              "    }\n",
              "    80% {\n",
              "      border-color: transparent;\n",
              "      border-right-color: var(--fill-color);\n",
              "      border-bottom-color: var(--fill-color);\n",
              "    }\n",
              "    90% {\n",
              "      border-color: transparent;\n",
              "      border-bottom-color: var(--fill-color);\n",
              "    }\n",
              "  }\n",
              "</style>\n",
              "\n",
              "      <script>\n",
              "        async function quickchart(key) {\n",
              "          const quickchartButtonEl =\n",
              "            document.querySelector('#' + key + ' button');\n",
              "          quickchartButtonEl.disabled = true;  // To prevent multiple clicks.\n",
              "          quickchartButtonEl.classList.add('colab-df-spinner');\n",
              "          try {\n",
              "            const charts = await google.colab.kernel.invokeFunction(\n",
              "                'suggestCharts', [key], {});\n",
              "          } catch (error) {\n",
              "            console.error('Error during call to suggestCharts:', error);\n",
              "          }\n",
              "          quickchartButtonEl.classList.remove('colab-df-spinner');\n",
              "          quickchartButtonEl.classList.add('colab-df-quickchart-complete');\n",
              "        }\n",
              "        (() => {\n",
              "          let quickchartButtonEl =\n",
              "            document.querySelector('#df-d6adbe24-82e1-42fc-b621-5aecdf58c50d button');\n",
              "          quickchartButtonEl.style.display =\n",
              "            google.colab.kernel.accessAllowed ? 'block' : 'none';\n",
              "        })();\n",
              "      </script>\n",
              "    </div>\n",
              "\n",
              "    </div>\n",
              "  </div>\n"
            ],
            "application/vnd.google.colaboratory.intrinsic+json": {
              "type": "dataframe",
              "summary": "{\n  \"name\": \"  print(\\\"Reset df: ok\",\n  \"rows\": 5,\n  \"fields\": [\n    {\n      \"column\": \"VendorID\",\n      \"properties\": {\n        \"dtype\": \"number\",\n        \"std\": 0.4472135954999579,\n        \"min\": 1.0,\n        \"max\": 2.0,\n        \"num_unique_values\": 2,\n        \"samples\": [\n          2.0,\n          1.0\n        ],\n        \"semantic_type\": \"\",\n        \"description\": \"\"\n      }\n    },\n    {\n      \"column\": \"tpep_pickup_datetime\",\n      \"properties\": {\n        \"dtype\": \"object\",\n        \"num_unique_values\": 5,\n        \"samples\": [\n          \"2020-01-01 00:35:39\",\n          \"2020-01-01 00:01:58\"\n        ],\n        \"semantic_type\": \"\",\n        \"description\": \"\"\n      }\n    },\n    {\n      \"column\": \"tpep_dropoff_datetime\",\n      \"properties\": {\n        \"dtype\": \"object\",\n        \"num_unique_values\": 5,\n        \"samples\": [\n          \"2020-01-01 00:43:04\",\n          \"2020-01-01 00:04:16\"\n        ],\n        \"semantic_type\": \"\",\n        \"description\": \"\"\n      }\n    },\n    {\n      \"column\": \"passenger_count\",\n      \"properties\": {\n        \"dtype\": \"number\",\n        \"std\": 0.0,\n        \"min\": 1.0,\n        \"max\": 1.0,\n        \"num_unique_values\": 1,\n        \"samples\": [\n          1.0\n        ],\n        \"semantic_type\": \"\",\n        \"description\": \"\"\n      }\n    },\n    {\n      \"column\": \"trip_distance\",\n      \"properties\": {\n        \"dtype\": \"number\",\n        \"std\": 0.4979959839195493,\n        \"min\": 0.0,\n        \"max\": 1.2,\n        \"num_unique_values\": 4,\n        \"samples\": [\n          0.6\n        ],\n        \"semantic_type\": \"\",\n        \"description\": \"\"\n      }\n    },\n    {\n      \"column\": \"RatecodeID\",\n      \"properties\": {\n        \"dtype\": \"number\",\n        \"std\": 0.0,\n        \"min\": 1.0,\n        \"max\": 1.0,\n        \"num_unique_values\": 1,\n        \"samples\": [\n          1.0\n        ],\n        \"semantic_type\": \"\",\n        \"description\": \"\"\n      }\n    },\n    {\n      \"column\": \"store_and_fwd_flag\",\n      \"properties\": {\n        \"dtype\": \"category\",\n        \"num_unique_values\": 1,\n        \"samples\": [\n          \"N\"\n        ],\n        \"semantic_type\": \"\",\n        \"description\": \"\"\n      }\n    },\n    {\n      \"column\": \"PULocationID\",\n      \"properties\": {\n        \"dtype\": \"number\",\n        \"std\": 20,\n        \"min\": 193,\n        \"max\": 239,\n        \"num_unique_values\": 3,\n        \"samples\": [\n          238\n        ],\n        \"semantic_type\": \"\",\n        \"description\": \"\"\n      }\n    },\n    {\n      \"column\": \"DOLocationID\",\n      \"properties\": {\n        \"dtype\": \"number\",\n        \"std\": 39,\n        \"min\": 151,\n        \"max\": 239,\n        \"num_unique_values\": 4,\n        \"samples\": [\n          238\n        ],\n        \"semantic_type\": \"\",\n        \"description\": \"\"\n      }\n    },\n    {\n      \"column\": \"payment_type\",\n      \"properties\": {\n        \"dtype\": \"number\",\n        \"std\": 0.4472135954999579,\n        \"min\": 1.0,\n        \"max\": 2.0,\n        \"num_unique_values\": 2,\n        \"samples\": [\n          2.0\n        ],\n        \"semantic_type\": \"\",\n        \"description\": \"\"\n      }\n    },\n    {\n      \"column\": \"fare_amount\",\n      \"properties\": {\n        \"dtype\": \"number\",\n        \"std\": 1.2942179105544784,\n        \"min\": 3.5,\n        \"max\": 7.0,\n        \"num_unique_values\": 4,\n        \"samples\": [\n          7.0\n        ],\n        \"semantic_type\": \"\",\n        \"description\": \"\"\n      }\n    },\n    {\n      \"column\": \"extra\",\n      \"properties\": {\n        \"dtype\": \"number\",\n        \"std\": 1.3693063937629153,\n        \"min\": 0.5,\n        \"max\": 3.0,\n        \"num_unique_values\": 2,\n        \"samples\": [\n          0.5\n        ],\n        \"semantic_type\": \"\",\n        \"description\": \"\"\n      }\n    },\n    {\n      \"column\": \"mta_tax\",\n      \"properties\": {\n        \"dtype\": \"number\",\n        \"std\": 0.0,\n        \"min\": 0.5,\n        \"max\": 0.5,\n        \"num_unique_values\": 1,\n        \"samples\": [\n          0.5\n        ],\n        \"semantic_type\": \"\",\n        \"description\": \"\"\n      }\n    },\n    {\n      \"column\": \"tip_amount\",\n      \"properties\": {\n        \"dtype\": \"number\",\n        \"std\": 0.6282356245868265,\n        \"min\": 0.0,\n        \"max\": 1.5,\n        \"num_unique_values\": 5,\n        \"samples\": [\n          1.5\n        ],\n        \"semantic_type\": \"\",\n        \"description\": \"\"\n      }\n    },\n    {\n      \"column\": \"tolls_amount\",\n      \"properties\": {\n        \"dtype\": \"number\",\n        \"std\": 0.0,\n        \"min\": 0.0,\n        \"max\": 0.0,\n        \"num_unique_values\": 1,\n        \"samples\": [\n          0.0\n        ],\n        \"semantic_type\": \"\",\n        \"description\": \"\"\n      }\n    },\n    {\n      \"column\": \"improvement_surcharge\",\n      \"properties\": {\n        \"dtype\": \"number\",\n        \"std\": 0.0,\n        \"min\": 0.3,\n        \"max\": 0.3,\n        \"num_unique_values\": 1,\n        \"samples\": [\n          0.3\n        ],\n        \"semantic_type\": \"\",\n        \"description\": \"\"\n      }\n    },\n    {\n      \"column\": \"total_amount\",\n      \"properties\": {\n        \"dtype\": \"number\",\n        \"std\": 3.022528742625949,\n        \"min\": 4.8,\n        \"max\": 12.3,\n        \"num_unique_values\": 5,\n        \"samples\": [\n          12.3\n        ],\n        \"semantic_type\": \"\",\n        \"description\": \"\"\n      }\n    },\n    {\n      \"column\": \"congestion_surcharge\",\n      \"properties\": {\n        \"dtype\": \"number\",\n        \"std\": 1.3693063937629153,\n        \"min\": 0.0,\n        \"max\": 2.5,\n        \"num_unique_values\": 2,\n        \"samples\": [\n          0.0\n        ],\n        \"semantic_type\": \"\",\n        \"description\": \"\"\n      }\n    }\n  ]\n}"
            }
          },
          "metadata": {}
        }
      ]
    },
    {
      "cell_type": "markdown",
      "source": [
        "**PRE-PROCESSING**\n",
        "The following rows are being removed because they can't represent a valid trip.\n",
        "A valid trip is assumed to have these columns always positive:\n",
        "\n",
        "\n",
        "*   fare_amount: can be >0 or 0 (free trip or payment voided?), but not below 0\n",
        "*   tip_amount: logically can't be below 0 (but could be 0)\n",
        "*   trip_distance: can't be <=0 because some distance has to be covered\n",
        "*   total_amount: since it's a sum of multiple components, can't be <= 0"
      ],
      "metadata": {
        "id": "9yLpqeqicxGW"
      }
    },
    {
      "cell_type": "code",
      "source": [
        "cols_to_check = ['fare_amount', 'tip_amount', 'trip_distance', 'total_amount']\n",
        "\n",
        "len_before = len(df)\n",
        "\n",
        "for col in cols_to_check:\n",
        "    n_neg = (df[col] < 0).sum()\n",
        "    print(f\"{col}: {n_neg} negative values found\")\n",
        "\n",
        "df = df[(df['fare_amount'] >= 0) & (df['trip_distance'] > 0) & (df['tip_amount'] >= 0) & (df['total_amount'] > 0)]\n",
        "\n",
        "\n",
        "print(f\"\\nA total of {len_before - len(df)} rows removed.\")"
      ],
      "metadata": {
        "colab": {
          "base_uri": "https://localhost:8080/"
        },
        "id": "AZOCP-YmctoP",
        "outputId": "85e44935-e132-4091-b84c-ba76f72ede41"
      },
      "execution_count": 2,
      "outputs": [
        {
          "output_type": "stream",
          "name": "stdout",
          "text": [
            "fare_amount: 19505 negative values found\n",
            "tip_amount: 170 negative values found\n",
            "trip_distance: 2338 negative values found\n",
            "total_amount: 19505 negative values found\n",
            "\n",
            "A total of 87985 rows removed.\n"
          ]
        }
      ]
    },
    {
      "cell_type": "markdown",
      "source": [
        "## Task 1"
      ],
      "metadata": {
        "id": "uTLJX8OZc43Q"
      }
    },
    {
      "cell_type": "markdown",
      "source": [
        "Extract all trips with trip_distance larger than 50"
      ],
      "metadata": {
        "id": "RsFTWy7SdjFm"
      }
    },
    {
      "cell_type": "code",
      "source": [],
      "metadata": {
        "id": "RMkUw6JbdhFt"
      },
      "execution_count": null,
      "outputs": []
    },
    {
      "cell_type": "markdown",
      "source": [
        "## Task 2"
      ],
      "metadata": {
        "id": "RZwTpcS3c-HL"
      }
    },
    {
      "cell_type": "markdown",
      "source": [
        "Extract all trips where payment_type is missing"
      ],
      "metadata": {
        "id": "8pyqpTXZdlsN"
      }
    },
    {
      "cell_type": "code",
      "source": [],
      "metadata": {
        "id": "wpPYz_AQdgrK"
      },
      "execution_count": null,
      "outputs": []
    },
    {
      "cell_type": "markdown",
      "source": [
        "## Task 3"
      ],
      "metadata": {
        "id": "u85dl5D2dA_x"
      }
    },
    {
      "cell_type": "markdown",
      "source": [
        "For each (PULocationID, DOLocationID) pair, determine the number of trips"
      ],
      "metadata": {
        "id": "dallOrEadmn4"
      }
    },
    {
      "cell_type": "code",
      "source": [],
      "metadata": {
        "id": "0p7IyoKQdgXH"
      },
      "execution_count": null,
      "outputs": []
    },
    {
      "cell_type": "markdown",
      "source": [
        "## Task 4"
      ],
      "metadata": {
        "id": "8-4i2eLGdBSS"
      }
    },
    {
      "cell_type": "markdown",
      "source": [
        "Save all rows with missing VendorID, passenger_count, store_and_fwd_flag, payment_type in a new DataFrame called bad, and remove those rows from the original DataFrame"
      ],
      "metadata": {
        "id": "VklUI4Esdqfy"
      }
    },
    {
      "cell_type": "code",
      "source": [],
      "metadata": {
        "id": "bjBezgCUdgG8"
      },
      "execution_count": null,
      "outputs": []
    },
    {
      "cell_type": "markdown",
      "source": [
        "## Task 5"
      ],
      "metadata": {
        "id": "5vXa2MIedBU4"
      }
    },
    {
      "cell_type": "markdown",
      "source": [
        "Add a duration column storing how long each trip has taken (use tpep_pickup_datetime, tpep_dropoff_datetime)"
      ],
      "metadata": {
        "id": "7JA26uYOdrhL"
      }
    },
    {
      "cell_type": "code",
      "source": [],
      "metadata": {
        "id": "FbETe7cbdfx5"
      },
      "execution_count": null,
      "outputs": []
    },
    {
      "cell_type": "markdown",
      "source": [
        "## Task 6"
      ],
      "metadata": {
        "id": "g7XkeexBdBXO"
      }
    },
    {
      "cell_type": "markdown",
      "source": [
        "For each pickup location, determine how many trips have started there"
      ],
      "metadata": {
        "id": "4Vnf79JQdwB-"
      }
    },
    {
      "cell_type": "code",
      "source": [],
      "metadata": {
        "id": "NjvSp8j5dfVe"
      },
      "execution_count": null,
      "outputs": []
    },
    {
      "cell_type": "markdown",
      "source": [
        "## Task 7"
      ],
      "metadata": {
        "id": "4nSN57A3dBZk"
      }
    },
    {
      "cell_type": "markdown",
      "source": [
        "Cluster the pickup time of the day into 30-minute intervals (e.g., from 02:00 to 02:30)"
      ],
      "metadata": {
        "id": "8zHDYmmldyMD"
      }
    },
    {
      "cell_type": "code",
      "source": [],
      "metadata": {
        "id": "KIFqn4F-de8g"
      },
      "execution_count": null,
      "outputs": []
    },
    {
      "cell_type": "markdown",
      "source": [
        "**Variante ----->\tTempo medio**\n",
        "\n",
        "astype(str).str.zfill(2) ----->\t1×\n",
        "\n",
        ".map('{:02}'.format) ----->\t~0.6×\n",
        "\n",
        ".dt.strftime('%H') su datetime ----->\t3–4×"
      ],
      "metadata": {
        "id": "lNrY-AZKd1Gu"
      }
    },
    {
      "cell_type": "markdown",
      "source": [
        "## Task 8"
      ],
      "metadata": {
        "id": "a6JPad0fdIUC"
      }
    },
    {
      "cell_type": "markdown",
      "source": [
        "For each interval, determine the average number of passengers and the average fare amount"
      ],
      "metadata": {
        "id": "ie58p0gHd3VK"
      }
    },
    {
      "cell_type": "code",
      "source": [],
      "metadata": {
        "id": "KDrej0hXdenI"
      },
      "execution_count": null,
      "outputs": []
    },
    {
      "cell_type": "markdown",
      "source": [
        "## Task 9"
      ],
      "metadata": {
        "id": "8GYxLVSGdItj"
      }
    },
    {
      "cell_type": "markdown",
      "source": [
        "For each payment type and each interval, determine the average fare amount"
      ],
      "metadata": {
        "id": "JOzg_lgqd4FE"
      }
    },
    {
      "cell_type": "code",
      "source": [],
      "metadata": {
        "id": "tvp14DuWdeRv"
      },
      "execution_count": null,
      "outputs": []
    },
    {
      "cell_type": "markdown",
      "source": [
        "## Task 10"
      ],
      "metadata": {
        "id": "4I3ez-EkdJB5"
      }
    },
    {
      "cell_type": "markdown",
      "source": [
        "For each payment type, determine the interval when the average fare amount is maximum"
      ],
      "metadata": {
        "id": "GWgYRegod87y"
      }
    },
    {
      "cell_type": "code",
      "source": [],
      "metadata": {
        "id": "di7xG9Grdd_h"
      },
      "execution_count": null,
      "outputs": []
    },
    {
      "cell_type": "markdown",
      "source": [
        "## Task 11"
      ],
      "metadata": {
        "id": "pYu5X35WdJRv"
      }
    },
    {
      "cell_type": "markdown",
      "source": [
        "For each payment type, determine the interval when the overall ratio between the tip and the fare amounts is maximum"
      ],
      "metadata": {
        "id": "4NrPvojdeE78"
      }
    },
    {
      "cell_type": "code",
      "source": [],
      "metadata": {
        "id": "OYwka3F_ddp7"
      },
      "execution_count": null,
      "outputs": []
    },
    {
      "cell_type": "markdown",
      "source": [
        "## Task 12"
      ],
      "metadata": {
        "id": "h54BY8RsdJkB"
      }
    },
    {
      "cell_type": "markdown",
      "source": [
        "Find the location with the highest average fare amount"
      ],
      "metadata": {
        "id": "dFrn_RLwd_2e"
      }
    },
    {
      "cell_type": "markdown",
      "source": [
        "**PLEASE NOTE:**\n",
        "\n",
        "Since it is not specified whether the location refers to PU or DO, I'll assume the goal is to find where the most expensive trips ***begin***, and therefore I will consider the **PU** locations.\n",
        "\n",
        "The same calculation can, of course, also be done using the DO locations, perhaps to explore the cost of reaching certain areas."
      ],
      "metadata": {
        "id": "T_E6G7g5eA_X"
      }
    },
    {
      "cell_type": "code",
      "source": [],
      "metadata": {
        "id": "VVHnwMWUddcn"
      },
      "execution_count": null,
      "outputs": []
    },
    {
      "cell_type": "markdown",
      "source": [
        "## Task 13"
      ],
      "metadata": {
        "id": "iLiWGfD9dJzG"
      }
    },
    {
      "cell_type": "markdown",
      "source": [
        "Build a new DataFrame (called common) where, for each pickup location, we keep all trips to the 5 most common destinations (i.e., each pickup location can have different common destinations)"
      ],
      "metadata": {
        "id": "66kGYFUoeGTi"
      }
    },
    {
      "cell_type": "code",
      "source": [],
      "metadata": {
        "id": "OeJ7yypYddMN"
      },
      "execution_count": null,
      "outputs": []
    },
    {
      "cell_type": "markdown",
      "source": [
        "## Task 14"
      ],
      "metadata": {
        "id": "YUMpFt-AdKB8"
      }
    },
    {
      "cell_type": "markdown",
      "source": [
        "On the common DataFrame, for each payment type and each interval, determine the average fare amount"
      ],
      "metadata": {
        "id": "FLMzMIgTeJ2H"
      }
    },
    {
      "cell_type": "code",
      "source": [],
      "metadata": {
        "id": "LqMvqT_1dcpH"
      },
      "execution_count": null,
      "outputs": []
    },
    {
      "cell_type": "markdown",
      "source": [
        "## Task 15"
      ],
      "metadata": {
        "id": "rCZ4m6zNdKR1"
      }
    },
    {
      "cell_type": "markdown",
      "source": [
        "Compute the difference of the average fare amount computed in the previous point with those computed at point 9"
      ],
      "metadata": {
        "id": "rzdZrcY2eLwx"
      }
    },
    {
      "cell_type": "code",
      "source": [],
      "metadata": {
        "id": "3EwAvhDcdcSN"
      },
      "execution_count": null,
      "outputs": []
    },
    {
      "cell_type": "markdown",
      "source": [
        "## Task 16"
      ],
      "metadata": {
        "id": "3zVfYxwTdKjj"
      }
    },
    {
      "cell_type": "markdown",
      "source": [
        "Compute the ratio between the differences computed in the previous point and those computed in point 9 Note: You have to compute a ratio for each pair (payment type, interval)"
      ],
      "metadata": {
        "id": "TeoRzEfMeNiB"
      }
    },
    {
      "cell_type": "code",
      "source": [],
      "metadata": {
        "id": "ABnKpObCdV6M"
      },
      "execution_count": null,
      "outputs": []
    },
    {
      "cell_type": "markdown",
      "source": [
        "## Task 17"
      ],
      "metadata": {
        "id": "B9WynSyodZO3"
      }
    },
    {
      "cell_type": "markdown",
      "source": [
        "Build chains of trips. Two trips are consecutive in a chain if:\n",
        "\n",
        "\n",
        "*   They have the same VendorID\n",
        "*   The pickup location of the second trip is also the dropoff location of the first trip\n",
        "*   The pickup time of the second trip is after the dropoff time of the first trip\n",
        "*   The pickup time of the second trip is at most 2 minutes later than the dropoff time of the first trip"
      ],
      "metadata": {
        "id": "9NwqGqsEeSBQ"
      }
    },
    {
      "cell_type": "code",
      "source": [],
      "metadata": {
        "id": "Wz2zSwwGdap1"
      },
      "execution_count": null,
      "outputs": []
    }
  ]
}